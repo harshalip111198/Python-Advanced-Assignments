{
 "cells": [
  {
   "cell_type": "markdown",
   "id": "d8b42400",
   "metadata": {},
   "source": [
    "### Q1. What are the two latest user-defined exception constraints in Python 3.X?\n",
    "\n",
    "1.raise statement - This is used to raise an inbuilt exception explicitly.\n",
    "2.assert statement - when condition in assert statement is true, program is executed normally. When condition is false, program gives an AssertionError."
   ]
  },
  {
   "cell_type": "markdown",
   "id": "30fde7a5",
   "metadata": {},
   "source": [
    "### Q2. How are class-based exceptions that have been raised matched to handlers?\n",
    "\n",
    "When exceptions are raised, then the exception is handled by the same class mentioned in except statement or its base classes. \"Exception\" is the base class(Superclass) for all other exception classes."
   ]
  },
  {
   "cell_type": "markdown",
   "id": "142931bb",
   "metadata": {},
   "source": [
    "### Q3. Describe two methods for attaching context information to exception artefacts.\n",
    "\n",
    "1.By using logging.exception() method, we can log log messages with level ERROR on the logger. I will store the information like type of error, line number, file name and path.\n",
    "\n",
    "2.By using raise keyword. It will also display Traceback of the recent exception raised."
   ]
  },
  {
   "cell_type": "code",
   "execution_count": 1,
   "id": "c480863b",
   "metadata": {},
   "outputs": [
    {
     "name": "stderr",
     "output_type": "stream",
     "text": [
      "ERROR:root:division by zero\n",
      "Traceback (most recent call last):\n",
      "  File \"C:\\Users\\Acer\\AppData\\Local\\Temp\\ipykernel_15256\\3018303915.py\", line 4, in <module>\n",
      "    4/0\n",
      "ZeroDivisionError: division by zero\n"
     ]
    },
    {
     "ename": "ZeroDivisionError",
     "evalue": "division by zero",
     "output_type": "error",
     "traceback": [
      "\u001b[1;31m---------------------------------------------------------------------------\u001b[0m",
      "\u001b[1;31mZeroDivisionError\u001b[0m                         Traceback (most recent call last)",
      "\u001b[1;32m~\\AppData\\Local\\Temp\\ipykernel_15256\\3018303915.py\u001b[0m in \u001b[0;36m<module>\u001b[1;34m\u001b[0m\n\u001b[0;32m      2\u001b[0m \u001b[1;33m\u001b[0m\u001b[0m\n\u001b[0;32m      3\u001b[0m \u001b[1;32mtry\u001b[0m\u001b[1;33m:\u001b[0m\u001b[1;33m\u001b[0m\u001b[1;33m\u001b[0m\u001b[0m\n\u001b[1;32m----> 4\u001b[1;33m     \u001b[1;36m4\u001b[0m\u001b[1;33m/\u001b[0m\u001b[1;36m0\u001b[0m\u001b[1;33m\u001b[0m\u001b[1;33m\u001b[0m\u001b[0m\n\u001b[0m\u001b[0;32m      5\u001b[0m \u001b[1;32mexcept\u001b[0m \u001b[0mException\u001b[0m \u001b[1;32mas\u001b[0m \u001b[0me\u001b[0m\u001b[1;33m:\u001b[0m\u001b[1;33m\u001b[0m\u001b[1;33m\u001b[0m\u001b[0m\n\u001b[0;32m      6\u001b[0m     \u001b[0mlogging\u001b[0m\u001b[1;33m.\u001b[0m\u001b[0mexception\u001b[0m\u001b[1;33m(\u001b[0m\u001b[0me\u001b[0m\u001b[1;33m)\u001b[0m\u001b[1;33m\u001b[0m\u001b[1;33m\u001b[0m\u001b[0m\n",
      "\u001b[1;31mZeroDivisionError\u001b[0m: division by zero"
     ]
    }
   ],
   "source": [
    "import logging\n",
    "  \n",
    "try: \n",
    "    4/0\n",
    "except Exception as e: \n",
    "    logging.exception(e)\n",
    "    raise"
   ]
  },
  {
   "cell_type": "markdown",
   "id": "6448cb32",
   "metadata": {},
   "source": [
    "### Q4. Describe two methods for specifying the text of an exception object's error message.\n",
    "\n",
    "1.We can print the text of an exception, by using the object of an Exception class. We can access different attributes like messgae, args, traceback from that object.\n",
    "\n",
    "2.By using logging.error() method"
   ]
  },
  {
   "cell_type": "code",
   "execution_count": 2,
   "id": "cbed1941",
   "metadata": {},
   "outputs": [
    {
     "name": "stdout",
     "output_type": "stream",
     "text": [
      "can only concatenate str (not \"int\") to str\n"
     ]
    }
   ],
   "source": [
    "try:\n",
    "    a = 'abc'\n",
    "    b = 2    \n",
    "    c = a+b\n",
    "except TypeError as e:\n",
    "    print(e)"
   ]
  },
  {
   "cell_type": "code",
   "execution_count": 3,
   "id": "9ad6d0e5",
   "metadata": {},
   "outputs": [
    {
     "name": "stderr",
     "output_type": "stream",
     "text": [
      "ERROR:root:[Errno 2] No such file or directory: 'one.txt'\n"
     ]
    }
   ],
   "source": [
    "try:\n",
    "    file = open('one.txt','r')\n",
    "except Exception as e:\n",
    "    logging.error(e)"
   ]
  },
  {
   "cell_type": "markdown",
   "id": "668c6530",
   "metadata": {},
   "source": [
    "### Q5. Why do you no longer use string-based exceptions?\n",
    "\n",
    "In Python versions 1.5 and earlier, Exceptions were strings and not classes. Now all exceptions are classes, derived from the superclass BaseException. With classes it is more efficiently handled as classes have many useful features."
   ]
  }
 ],
 "metadata": {
  "kernelspec": {
   "display_name": "Python 3 (ipykernel)",
   "language": "python",
   "name": "python3"
  },
  "language_info": {
   "codemirror_mode": {
    "name": "ipython",
    "version": 3
   },
   "file_extension": ".py",
   "mimetype": "text/x-python",
   "name": "python",
   "nbconvert_exporter": "python",
   "pygments_lexer": "ipython3",
   "version": "3.9.13"
  }
 },
 "nbformat": 4,
 "nbformat_minor": 5
}
