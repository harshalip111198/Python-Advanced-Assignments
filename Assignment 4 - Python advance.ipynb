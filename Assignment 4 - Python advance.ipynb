{
 "cells": [
  {
   "cell_type": "markdown",
   "id": "053ba56c",
   "metadata": {},
   "source": [
    "### Q1. Which two operator overloading methods can you use in your classes to support iteration?\n",
    "\n",
    "Ans.add() and mul() methods can be used for both integers and string data objects. String is iterable object. When two strings are passed to + operator, it will return concatenated string. When * (number) is preceeded by string, then that string is repeated those many number of time."
   ]
  },
  {
   "cell_type": "code",
   "execution_count": 1,
   "id": "d95affae",
   "metadata": {},
   "outputs": [
    {
     "name": "stdout",
     "output_type": "stream",
     "text": [
      "Harshali\n",
      "pqrpqrpqrpqrpqr\n"
     ]
    }
   ],
   "source": [
    "print(\"Harsh\" + 'ali')\n",
    "\n",
    "print(\"pqr\" * 5)"
   ]
  },
  {
   "cell_type": "markdown",
   "id": "4f16b831",
   "metadata": {},
   "source": [
    "### Q2. In what contexts do the two operator overloading methods manage printing?\n",
    "\n",
    "Ans.It depends on the input parameter result is printed. Example, If both inputs are string function will print string output."
   ]
  },
  {
   "cell_type": "markdown",
   "id": "3cc36171",
   "metadata": {},
   "source": [
    "### Q3. In a class, how do you intercept slice operations?\n",
    "\n",
    "As follows:"
   ]
  },
  {
   "cell_type": "code",
   "execution_count": 2,
   "id": "50bd4a1c",
   "metadata": {},
   "outputs": [
    {
     "name": "stdout",
     "output_type": "stream",
     "text": [
      "saving\n",
      "         30 function calls in 0.000 seconds\n",
      "\n",
      "   Ordered by: standard name\n",
      "\n",
      "   ncalls  tottime  percall  cumtime  percall filename:lineno(function)\n",
      "        1    0.000    0.000    0.000    0.000 496387589.py:8(__setitem__)\n",
      "        2    0.000    0.000    0.000    0.000 :0(__exit__)\n",
      "        1    0.000    0.000    0.000    0.000 :0(acquire)\n",
      "        1    0.000    0.000    0.000    0.000 :0(append)\n",
      "        1    0.000    0.000    0.000    0.000 :0(exec)\n",
      "        2    0.000    0.000    0.000    0.000 :0(getpid)\n",
      "        2    0.000    0.000    0.000    0.000 :0(isinstance)\n",
      "        2    0.000    0.000    0.000    0.000 :0(len)\n",
      "        1    0.000    0.000    0.000    0.000 :0(print)\n",
      "        1    0.000    0.000    0.000    0.000 :0(setprofile)\n",
      "        2    0.000    0.000    0.000    0.000 :0(write)\n",
      "        1    0.000    0.000    0.000    0.000 <string>:1(<module>)\n",
      "        1    0.000    0.000    0.000    0.000 iostream.py:202(schedule)\n",
      "        2    0.000    0.000    0.000    0.000 iostream.py:429(_is_master_process)\n",
      "        2    0.000    0.000    0.000    0.000 iostream.py:448(_schedule_flush)\n",
      "        2    0.000    0.000    0.000    0.000 iostream.py:518(write)\n",
      "        1    0.000    0.000    0.000    0.000 iostream.py:90(_event_pipe)\n",
      "        1    0.000    0.000    0.000    0.000 profile:0(l2[3:] = [5])\n",
      "        0    0.000             0.000          profile:0(profiler)\n",
      "        1    0.000    0.000    0.000    0.000 socket.py:543(send)\n",
      "        1    0.000    0.000    0.000    0.000 threading.py:1066(_wait_for_tstate_lock)\n",
      "        1    0.000    0.000    0.000    0.000 threading.py:1133(is_alive)\n",
      "        1    0.000    0.000    0.000    0.000 threading.py:536(is_set)\n",
      "\n",
      "\n",
      "saving\n",
      "         22 function calls in 0.000 seconds\n",
      "\n",
      "   Ordered by: standard name\n",
      "\n",
      "   ncalls  tottime  percall  cumtime  percall filename:lineno(function)\n",
      "        1    0.000    0.000    0.000    0.000 496387589.py:8(__setitem__)\n",
      "        2    0.000    0.000    0.000    0.000 :0(__exit__)\n",
      "        1    0.000    0.000    0.000    0.000 :0(exec)\n",
      "        2    0.000    0.000    0.000    0.000 :0(getpid)\n",
      "        2    0.000    0.000    0.000    0.000 :0(isinstance)\n",
      "        2    0.000    0.000    0.000    0.000 :0(len)\n",
      "        1    0.000    0.000    0.000    0.000 :0(print)\n",
      "        1    0.000    0.000    0.000    0.000 :0(setprofile)\n",
      "        2    0.000    0.000    0.000    0.000 :0(write)\n",
      "        1    0.000    0.000    0.000    0.000 <string>:1(<module>)\n",
      "        2    0.000    0.000    0.000    0.000 iostream.py:429(_is_master_process)\n",
      "        2    0.000    0.000    0.000    0.000 iostream.py:448(_schedule_flush)\n",
      "        2    0.000    0.000    0.000    0.000 iostream.py:518(write)\n",
      "        1    0.000    0.000    0.000    0.000 profile:0(l2[2:6] = [12,4])\n",
      "        0    0.000             0.000          profile:0(profiler)\n",
      "\n",
      "\n",
      "saving\n",
      "         22 function calls in 0.000 seconds\n",
      "\n",
      "   Ordered by: standard name\n",
      "\n",
      "   ncalls  tottime  percall  cumtime  percall filename:lineno(function)\n",
      "        1    0.000    0.000    0.000    0.000 496387589.py:8(__setitem__)\n",
      "        2    0.000    0.000    0.000    0.000 :0(__exit__)\n",
      "        1    0.000    0.000    0.000    0.000 :0(exec)\n",
      "        2    0.000    0.000    0.000    0.000 :0(getpid)\n",
      "        2    0.000    0.000    0.000    0.000 :0(isinstance)\n",
      "        2    0.000    0.000    0.000    0.000 :0(len)\n",
      "        1    0.000    0.000    0.000    0.000 :0(print)\n",
      "        1    0.000    0.000    0.000    0.000 :0(setprofile)\n",
      "        2    0.000    0.000    0.000    0.000 :0(write)\n",
      "        1    0.000    0.000    0.000    0.000 <string>:1(<module>)\n",
      "        2    0.000    0.000    0.000    0.000 iostream.py:429(_is_master_process)\n",
      "        2    0.000    0.000    0.000    0.000 iostream.py:448(_schedule_flush)\n",
      "        2    0.000    0.000    0.000    0.000 iostream.py:518(write)\n",
      "        1    0.000    0.000    0.000    0.000 profile:0(l2[-1:] = [42])\n",
      "        0    0.000             0.000          profile:0(profiler)\n",
      "\n",
      "\n",
      "saving\n",
      "         22 function calls in 0.000 seconds\n",
      "\n",
      "   Ordered by: standard name\n",
      "\n",
      "   ncalls  tottime  percall  cumtime  percall filename:lineno(function)\n",
      "        1    0.000    0.000    0.000    0.000 496387589.py:8(__setitem__)\n",
      "        2    0.000    0.000    0.000    0.000 :0(__exit__)\n",
      "        1    0.000    0.000    0.000    0.000 :0(exec)\n",
      "        2    0.000    0.000    0.000    0.000 :0(getpid)\n",
      "        2    0.000    0.000    0.000    0.000 :0(isinstance)\n",
      "        2    0.000    0.000    0.000    0.000 :0(len)\n",
      "        1    0.000    0.000    0.000    0.000 :0(print)\n",
      "        1    0.000    0.000    0.000    0.000 :0(setprofile)\n",
      "        2    0.000    0.000    0.000    0.000 :0(write)\n",
      "        1    0.000    0.000    0.000    0.000 <string>:1(<module>)\n",
      "        2    0.000    0.000    0.000    0.000 iostream.py:429(_is_master_process)\n",
      "        2    0.000    0.000    0.000    0.000 iostream.py:448(_schedule_flush)\n",
      "        2    0.000    0.000    0.000    0.000 iostream.py:518(write)\n",
      "        1    0.000    0.000    0.000    0.000 profile:0(l2[::2] = [6,6])\n",
      "        0    0.000             0.000          profile:0(profiler)\n",
      "\n",
      "\n"
     ]
    }
   ],
   "source": [
    "import profile\n",
    "import sys\n",
    "\n",
    "\n",
    "\n",
    "class InterceptedList2(list):\n",
    "\n",
    "    def __setitem__(self, key, value):\n",
    "        print ('saving')\n",
    "        list.__setitem__(self, key, value)\n",
    "\n",
    "    def __delitem__(self, key):\n",
    "        print ('saving')\n",
    "        list.__delitem__(self, key)\n",
    "\n",
    "\n",
    "\n",
    "l2 = InterceptedList2()\n",
    "l2.extend([1,2,3,4])\n",
    "profile.run(\"l2[3:] = [5]\")\n",
    "profile.run(\"l2[2:6] = [12,4]\")\n",
    "profile.run(\"l2[-1:] = [42]\")\n",
    "profile.run(\"l2[::2] = [6,6]\")"
   ]
  },
  {
   "cell_type": "markdown",
   "id": "60c2c0f6",
   "metadata": {},
   "source": [
    "### Q4. in a class, how do you capture in-place addition?\n",
    "\n",
    "Ans.Python in its definition provides methods to perform inplace operations, i.e doing assignment and computation in a single statement using “operator” module. For example,\n",
    "\n",
    "x += y is equivalent to x = operator.iadd(x, y)\n",
    "\n",
    "iadd() function is used to assign and add the current value. This operation does “a+=b” operation. Assigning is not performed in case of immutable containers, such as strings, numbers and tuples."
   ]
  },
  {
   "cell_type": "code",
   "execution_count": 3,
   "id": "15f49286",
   "metadata": {},
   "outputs": [
    {
     "name": "stdout",
     "output_type": "stream",
     "text": [
      "5\n"
     ]
    }
   ],
   "source": [
    "import operator\n",
    "\n",
    "x = 2\n",
    "y = 3\n",
    "\n",
    "x = operator.iadd(x,y)\n",
    "\n",
    "print(x) "
   ]
  },
  {
   "cell_type": "markdown",
   "id": "1fc48386",
   "metadata": {},
   "source": [
    "### Q5. When is it appropriate to use operator overloading?\n",
    "\n",
    "Ans.When we have two objects which are a physical representation of a class (user-defined data type) and we have to add two objects with binary ‘+’ operator it throws an error, because compiler don’t know how to add two objects. So we define a method for an operator and that process is called operator overloading."
   ]
  }
 ],
 "metadata": {
  "kernelspec": {
   "display_name": "Python 3 (ipykernel)",
   "language": "python",
   "name": "python3"
  },
  "language_info": {
   "codemirror_mode": {
    "name": "ipython",
    "version": 3
   },
   "file_extension": ".py",
   "mimetype": "text/x-python",
   "name": "python",
   "nbconvert_exporter": "python",
   "pygments_lexer": "ipython3",
   "version": "3.9.13"
  }
 },
 "nbformat": 4,
 "nbformat_minor": 5
}
